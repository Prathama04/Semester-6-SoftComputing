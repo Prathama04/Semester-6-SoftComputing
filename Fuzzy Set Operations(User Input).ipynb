{
 "cells": [
  {
   "cell_type": "code",
   "execution_count": 1,
   "id": "2d021c82-8aad-4e24-815d-a4518b024ff8",
   "metadata": {},
   "outputs": [],
   "source": [
    "def union(A,B):\n",
    "    res={}\n",
    "    for key in A.keys():\n",
    "        if key in B.keys():\n",
    "            if A[key]>B[key]:\n",
    "                res[key]=A[key]\n",
    "            else:\n",
    "                res[key]=B[key]\n",
    "        else:\n",
    "            res[key]=A[key]\n",
    "    for key in B.keys():\n",
    "        if key in A.keys():\n",
    "            if A[key]>B[key]:\n",
    "                res[key]=A[key]\n",
    "            else:\n",
    "                res[key]=B[key]\n",
    "        else:\n",
    "            res[key]=B[key]\n",
    "            \n",
    "    return res\n",
    "                "
   ]
  },
  {
   "cell_type": "code",
   "execution_count": 2,
   "id": "06355f2b-fada-4d5c-8402-90fbaf91b4ca",
   "metadata": {},
   "outputs": [],
   "source": [
    "def intersection(A,B):\n",
    "    res={}\n",
    "    for key in A.keys():\n",
    "        if key in B.keys():\n",
    "            if A[key]>B[key]:\n",
    "                res[key]=B[key]\n",
    "            else:\n",
    "                res[key]=A[key]\n",
    "        \n",
    "    return res"
   ]
  },
  {
   "cell_type": "code",
   "execution_count": 16,
   "id": "4e95f732-8aa2-432d-bdae-977defcc4ea8",
   "metadata": {},
   "outputs": [],
   "source": [
    "def complement(A):\n",
    "    res={}\n",
    "    for key in A.keys():\n",
    "        res[key]=1-A[key]\n",
    "        \n",
    "    return res"
   ]
  },
  {
   "cell_type": "code",
   "execution_count": 12,
   "id": "aefc72c8-2534-4e54-b212-5d6d4351572b",
   "metadata": {},
   "outputs": [],
   "source": [
    "def cartesian(A,B):\n",
    "    res={}\n",
    "    for key,value in A.items():\n",
    "        for key1,value1 in B.items():\n",
    "            res[(key,key1)]=min(value,value1)\n",
    "    return res"
   ]
  },
  {
   "cell_type": "code",
   "execution_count": 5,
   "id": "e71cd7c5-c101-4944-996d-ffbbb2cbe99d",
   "metadata": {},
   "outputs": [],
   "source": [
    "def sum(A,B):\n",
    "    res={}\n",
    "    all_keys=set(A.keys()).union(set(B.keys()))\n",
    "    for key in all_keys:\n",
    "        m_value1=A.get(key,0)\n",
    "        m_value2=B.get(key,0)\n",
    "        res[key]=m_value1+m_value2-m_value1*m_value2\n",
    "    return res"
   ]
  },
  {
   "cell_type": "code",
   "execution_count": 6,
   "id": "46a2009c-24f5-4217-87df-bae0f791f24a",
   "metadata": {},
   "outputs": [],
   "source": [
    "def difference(A,B):\n",
    "    res={}\n",
    "    B1={}\n",
    "    for key in B.keys():\n",
    "        B1[key]=1-B[key]\n",
    "    for key1 in A.keys():\n",
    "        if key1 in B1.keys():\n",
    "            if A[key1] < B1[key1]:\n",
    "                res[key1] = A[key1]\n",
    "            else:\n",
    "                res[key1] = B1[key1]\n",
    "    return res"
   ]
  },
  {
   "cell_type": "code",
   "execution_count": 7,
   "id": "08f2b087-0e32-43fb-9737-1a01fa9c9de9",
   "metadata": {},
   "outputs": [
    {
     "name": "stdout",
     "output_type": "stream",
     "text": [
      "Input for Dictionary A:\n"
     ]
    },
    {
     "name": "stdin",
     "output_type": "stream",
     "text": [
      "Enter the number of key-value pairs for dictionary A:  3\n",
      "Enter key #1 for A:  a\n",
      "Enter value for key 'a':  0.2\n",
      "Enter key #2 for A:  b\n",
      "Enter value for key 'b':  0.4\n",
      "Enter key #3 for A:  c\n",
      "Enter value for key 'c':  0.5\n"
     ]
    },
    {
     "name": "stdout",
     "output_type": "stream",
     "text": [
      "\n",
      "Input for Dictionary B:\n"
     ]
    },
    {
     "name": "stdin",
     "output_type": "stream",
     "text": [
      "Enter the number of key-value pairs for dictionary B:  4\n",
      "Enter key #1 for B:  a\n",
      "Enter value for key 'a':  0.4\n",
      "Enter key #2 for B:  b\n",
      "Enter value for key 'b':  0.6\n",
      "Enter key #3 for B:  r\n",
      "Enter value for key 'r':  0.3\n",
      "Enter key #4 for B:  d\n",
      "Enter value for key 'd':  0.5\n"
     ]
    },
    {
     "name": "stdout",
     "output_type": "stream",
     "text": [
      "\n",
      "Dictionary A: {'a': 0.2, 'b': 0.4, 'c': 0.5}\n",
      "Dictionary B: {'a': 0.4, 'b': 0.6, 'r': 0.3, 'd': 0.5}\n"
     ]
    }
   ],
   "source": [
    "# Function to input a dictionary from user\n",
    "def input_dict(name):\n",
    "    d = {}\n",
    "    n = int(input(f\"Enter the number of key-value pairs for dictionary {name}: \"))\n",
    "    for i in range(n):\n",
    "        key = input(f\"Enter key #{i+1} for {name}: \")\n",
    "        value = float(input(f\"Enter value for key '{key}': \"))\n",
    "        d[key] = value\n",
    "    return d\n",
    "\n",
    "# Input two dictionaries\n",
    "print(\"Input for Dictionary A:\")\n",
    "A = input_dict(\"A\")\n",
    "\n",
    "print(\"\\nInput for Dictionary B:\")\n",
    "B = input_dict(\"B\")\n",
    "\n",
    "# Display the dictionaries\n",
    "print(\"\\nDictionary A:\", A)\n",
    "print(\"Dictionary B:\", B)\n"
   ]
  },
  {
   "cell_type": "code",
   "execution_count": 8,
   "id": "497e2136-955c-4d3d-ba57-1d55fd587acf",
   "metadata": {},
   "outputs": [
    {
     "data": {
      "text/plain": [
       "{'a': 0.4, 'b': 0.6, 'c': 0.5, 'r': 0.3, 'd': 0.5}"
      ]
     },
     "execution_count": 8,
     "metadata": {},
     "output_type": "execute_result"
    }
   ],
   "source": [
    "union(A,B)"
   ]
  },
  {
   "cell_type": "code",
   "execution_count": 9,
   "id": "524791b8-80f6-4a75-b076-e0ed014cba5f",
   "metadata": {},
   "outputs": [
    {
     "data": {
      "text/plain": [
       "{'a': 0.2, 'b': 0.4}"
      ]
     },
     "execution_count": 9,
     "metadata": {},
     "output_type": "execute_result"
    }
   ],
   "source": [
    "intersection(A,B)"
   ]
  },
  {
   "cell_type": "code",
   "execution_count": 17,
   "id": "5f766e44-5e9f-4d05-ba7b-4c93ede5e900",
   "metadata": {},
   "outputs": [
    {
     "name": "stdout",
     "output_type": "stream",
     "text": [
      "{'a': 0.8, 'b': 0.6, 'c': 0.5}\n",
      "{'a': 0.6, 'b': 0.4, 'r': 0.7, 'd': 0.5}\n"
     ]
    }
   ],
   "source": [
    "print(complement(A))\n",
    "print(complement(B))"
   ]
  },
  {
   "cell_type": "code",
   "execution_count": 13,
   "id": "df11da63-0785-4755-b5f9-61e61cd7ff24",
   "metadata": {},
   "outputs": [
    {
     "data": {
      "text/plain": [
       "{('a', 'a'): 0.2,\n",
       " ('a', 'b'): 0.2,\n",
       " ('a', 'r'): 0.2,\n",
       " ('a', 'd'): 0.2,\n",
       " ('b', 'a'): 0.4,\n",
       " ('b', 'b'): 0.4,\n",
       " ('b', 'r'): 0.3,\n",
       " ('b', 'd'): 0.4,\n",
       " ('c', 'a'): 0.4,\n",
       " ('c', 'b'): 0.5,\n",
       " ('c', 'r'): 0.3,\n",
       " ('c', 'd'): 0.5}"
      ]
     },
     "execution_count": 13,
     "metadata": {},
     "output_type": "execute_result"
    }
   ],
   "source": [
    "cartesian(A,B)"
   ]
  },
  {
   "cell_type": "code",
   "execution_count": 14,
   "id": "64e9723b-31a1-4e6e-a58e-f623d2df055a",
   "metadata": {},
   "outputs": [
    {
     "data": {
      "text/plain": [
       "{'d': 0.5, 'c': 0.5, 'b': 0.76, 'a': 0.52, 'r': 0.3}"
      ]
     },
     "execution_count": 14,
     "metadata": {},
     "output_type": "execute_result"
    }
   ],
   "source": [
    "sum(A,B)"
   ]
  },
  {
   "cell_type": "code",
   "execution_count": 15,
   "id": "dca8fad8-db5e-4ced-a558-24794d6ba122",
   "metadata": {},
   "outputs": [
    {
     "data": {
      "text/plain": [
       "{'a': 0.2, 'b': 0.4}"
      ]
     },
     "execution_count": 15,
     "metadata": {},
     "output_type": "execute_result"
    }
   ],
   "source": [
    "difference(A,B)"
   ]
  },
  {
   "cell_type": "code",
   "execution_count": null,
   "id": "e262f3c4-c4b6-4990-8244-e34455c485b9",
   "metadata": {},
   "outputs": [],
   "source": []
  }
 ],
 "metadata": {
  "kernelspec": {
   "display_name": "Python 3 (ipykernel)",
   "language": "python",
   "name": "python3"
  },
  "language_info": {
   "codemirror_mode": {
    "name": "ipython",
    "version": 3
   },
   "file_extension": ".py",
   "mimetype": "text/x-python",
   "name": "python",
   "nbconvert_exporter": "python",
   "pygments_lexer": "ipython3",
   "version": "3.11.4"
  }
 },
 "nbformat": 4,
 "nbformat_minor": 5
}
